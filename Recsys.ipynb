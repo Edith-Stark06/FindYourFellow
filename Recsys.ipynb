{
 "cells": [
  {
   "cell_type": "code",
   "execution_count": 1,
   "id": "878347ff",
   "metadata": {},
   "outputs": [],
   "source": [
    "import pandas as pd\n",
    "from sklearn.metrics.pairwise import cosine_similarity\n",
    "from sklearn.feature_extraction.text import CountVectorizer"
   ]
  },
  {
   "cell_type": "code",
   "execution_count": 3,
   "id": "7d778a77",
   "metadata": {},
   "outputs": [],
   "source": [
    "df = pd.read_excel('Datasets(MLtraining)draft(1).xlsx')"
   ]
  },
  {
   "cell_type": "code",
   "execution_count": 4,
   "id": "f3fd01be",
   "metadata": {},
   "outputs": [
    {
     "data": {
      "text/html": [
       "<div>\n",
       "<style scoped>\n",
       "    .dataframe tbody tr th:only-of-type {\n",
       "        vertical-align: middle;\n",
       "    }\n",
       "\n",
       "    .dataframe tbody tr th {\n",
       "        vertical-align: top;\n",
       "    }\n",
       "\n",
       "    .dataframe thead th {\n",
       "        text-align: right;\n",
       "    }\n",
       "</style>\n",
       "<table border=\"1\" class=\"dataframe\">\n",
       "  <thead>\n",
       "    <tr style=\"text-align: right;\">\n",
       "      <th></th>\n",
       "      <th>NAME</th>\n",
       "      <th>AGE</th>\n",
       "      <th>LOCATION</th>\n",
       "      <th>SKILLS</th>\n",
       "      <th>INTEREST ( purpose of connection)</th>\n",
       "    </tr>\n",
       "  </thead>\n",
       "  <tbody>\n",
       "    <tr>\n",
       "      <th>0</th>\n",
       "      <td>NaN</td>\n",
       "      <td>NaN</td>\n",
       "      <td>NaN</td>\n",
       "      <td>NaN</td>\n",
       "      <td>NaN</td>\n",
       "    </tr>\n",
       "    <tr>\n",
       "      <th>1</th>\n",
       "      <td>Shivani Kapahi</td>\n",
       "      <td>21.0</td>\n",
       "      <td>Anna Nagar</td>\n",
       "      <td>Development;Research;Designing</td>\n",
       "      <td>Scholarships;Hackathons;Research Papers;Projects</td>\n",
       "    </tr>\n",
       "    <tr>\n",
       "      <th>2</th>\n",
       "      <td>Tarkeshwar</td>\n",
       "      <td>22.0</td>\n",
       "      <td>Ambattur</td>\n",
       "      <td>Development;Competitive Coding</td>\n",
       "      <td>NaN</td>\n",
       "    </tr>\n",
       "    <tr>\n",
       "      <th>3</th>\n",
       "      <td>Suraj Verma</td>\n",
       "      <td>21.0</td>\n",
       "      <td>Pallavaram</td>\n",
       "      <td>Development</td>\n",
       "      <td>NaN</td>\n",
       "    </tr>\n",
       "    <tr>\n",
       "      <th>4</th>\n",
       "      <td>Kamal</td>\n",
       "      <td>22.0</td>\n",
       "      <td>Virugambakkam</td>\n",
       "      <td>NaN</td>\n",
       "      <td>NaN</td>\n",
       "    </tr>\n",
       "  </tbody>\n",
       "</table>\n",
       "</div>"
      ],
      "text/plain": [
       "            NAME   AGE       LOCATION                           SKILLS  \\\n",
       "0             NaN   NaN            NaN                             NaN   \n",
       "1  Shivani Kapahi  21.0     Anna Nagar  Development;Research;Designing   \n",
       "2      Tarkeshwar  22.0       Ambattur  Development;Competitive Coding   \n",
       "3     Suraj Verma  21.0     Pallavaram                     Development   \n",
       "4           Kamal  22.0  Virugambakkam                             NaN   \n",
       "\n",
       "                  INTEREST ( purpose of connection)  \n",
       "0                                               NaN  \n",
       "1  Scholarships;Hackathons;Research Papers;Projects  \n",
       "2                                               NaN  \n",
       "3                                               NaN  \n",
       "4                                               NaN  "
      ]
     },
     "execution_count": 4,
     "metadata": {},
     "output_type": "execute_result"
    }
   ],
   "source": [
    "df.head()"
   ]
  },
  {
   "cell_type": "code",
   "execution_count": 5,
   "id": "ef55a963",
   "metadata": {},
   "outputs": [
    {
     "data": {
      "text/plain": [
       "NAME                                   1\n",
       "AGE                                    1\n",
       "LOCATION                               1\n",
       "SKILLS                               469\n",
       "INTEREST ( purpose of connection)    883\n",
       "dtype: int64"
      ]
     },
     "execution_count": 5,
     "metadata": {},
     "output_type": "execute_result"
    }
   ],
   "source": [
    "df.isna().sum()"
   ]
  },
  {
   "cell_type": "code",
   "execution_count": 11,
   "id": "e2bc626b",
   "metadata": {},
   "outputs": [],
   "source": [
    "df.dropna(inplace=True)"
   ]
  },
  {
   "cell_type": "code",
   "execution_count": 12,
   "id": "d3fc2847",
   "metadata": {},
   "outputs": [],
   "source": [
    "df['skills_and_interests'] = df['SKILLS'] + ';' + df['INTEREST ( purpose of connection)']"
   ]
  },
  {
   "cell_type": "code",
   "execution_count": 13,
   "id": "68236d38",
   "metadata": {},
   "outputs": [
    {
     "data": {
      "text/html": [
       "<div>\n",
       "<style scoped>\n",
       "    .dataframe tbody tr th:only-of-type {\n",
       "        vertical-align: middle;\n",
       "    }\n",
       "\n",
       "    .dataframe tbody tr th {\n",
       "        vertical-align: top;\n",
       "    }\n",
       "\n",
       "    .dataframe thead th {\n",
       "        text-align: right;\n",
       "    }\n",
       "</style>\n",
       "<table border=\"1\" class=\"dataframe\">\n",
       "  <thead>\n",
       "    <tr style=\"text-align: right;\">\n",
       "      <th></th>\n",
       "      <th>NAME</th>\n",
       "      <th>AGE</th>\n",
       "      <th>LOCATION</th>\n",
       "      <th>SKILLS</th>\n",
       "      <th>INTEREST ( purpose of connection)</th>\n",
       "      <th>skills_and_interests</th>\n",
       "    </tr>\n",
       "  </thead>\n",
       "  <tbody>\n",
       "    <tr>\n",
       "      <th>1</th>\n",
       "      <td>Shivani Kapahi</td>\n",
       "      <td>21.0</td>\n",
       "      <td>Anna Nagar</td>\n",
       "      <td>Development;Research;Designing</td>\n",
       "      <td>Scholarships;Hackathons;Research Papers;Projects</td>\n",
       "      <td>Development;Research;Designing;Scholarships;Ha...</td>\n",
       "    </tr>\n",
       "    <tr>\n",
       "      <th>5</th>\n",
       "      <td>Hari</td>\n",
       "      <td>22.0</td>\n",
       "      <td>Thirumazhisai</td>\n",
       "      <td>Development</td>\n",
       "      <td>Hackathons;Coding Competitions;Projects</td>\n",
       "      <td>Development;Hackathons;Coding Competitions;Pro...</td>\n",
       "    </tr>\n",
       "    <tr>\n",
       "      <th>6</th>\n",
       "      <td>Dinesh Kumar</td>\n",
       "      <td>21.0</td>\n",
       "      <td>Moolakadai</td>\n",
       "      <td>Development;Research</td>\n",
       "      <td>Scholarships;Hackathons;Coding Competitions;Pr...</td>\n",
       "      <td>Development;Research;Scholarships;Hackathons;C...</td>\n",
       "    </tr>\n",
       "    <tr>\n",
       "      <th>10</th>\n",
       "      <td>Sheeshpal Singh</td>\n",
       "      <td>22.0</td>\n",
       "      <td>Anna Nagar</td>\n",
       "      <td>Competitive Coding</td>\n",
       "      <td>Coding Competitions</td>\n",
       "      <td>Competitive Coding;Coding Competitions</td>\n",
       "    </tr>\n",
       "    <tr>\n",
       "      <th>12</th>\n",
       "      <td>Mithlesh Kumar</td>\n",
       "      <td>21.0</td>\n",
       "      <td>Pammal</td>\n",
       "      <td>Competitive Coding</td>\n",
       "      <td>Projects</td>\n",
       "      <td>Competitive Coding;Projects</td>\n",
       "    </tr>\n",
       "  </tbody>\n",
       "</table>\n",
       "</div>"
      ],
      "text/plain": [
       "              NAME   AGE       LOCATION                           SKILLS  \\\n",
       "1    Shivani Kapahi  21.0     Anna Nagar  Development;Research;Designing   \n",
       "5              Hari  22.0  Thirumazhisai                     Development   \n",
       "6      Dinesh Kumar  21.0     Moolakadai            Development;Research   \n",
       "10  Sheeshpal Singh  22.0     Anna Nagar              Competitive Coding   \n",
       "12   Mithlesh Kumar  21.0         Pammal              Competitive Coding   \n",
       "\n",
       "                    INTEREST ( purpose of connection)  \\\n",
       "1    Scholarships;Hackathons;Research Papers;Projects   \n",
       "5             Hackathons;Coding Competitions;Projects   \n",
       "6   Scholarships;Hackathons;Coding Competitions;Pr...   \n",
       "10                                Coding Competitions   \n",
       "12                                           Projects   \n",
       "\n",
       "                                 skills_and_interests  \n",
       "1   Development;Research;Designing;Scholarships;Ha...  \n",
       "5   Development;Hackathons;Coding Competitions;Pro...  \n",
       "6   Development;Research;Scholarships;Hackathons;C...  \n",
       "10             Competitive Coding;Coding Competitions  \n",
       "12                        Competitive Coding;Projects  "
      ]
     },
     "execution_count": 13,
     "metadata": {},
     "output_type": "execute_result"
    }
   ],
   "source": [
    "df.head()"
   ]
  },
  {
   "cell_type": "code",
   "execution_count": 30,
   "id": "e4c3f13e",
   "metadata": {},
   "outputs": [
    {
     "data": {
      "text/plain": [
       "Index(['NAME ', 'AGE ', 'LOCATION ', 'SKILLS',\n",
       "       'INTEREST ( purpose of connection)', 'skills_and_interests'],\n",
       "      dtype='object')"
      ]
     },
     "execution_count": 30,
     "metadata": {},
     "output_type": "execute_result"
    }
   ],
   "source": [
    "df.columns"
   ]
  },
  {
   "cell_type": "code",
   "execution_count": 14,
   "id": "f17555e8",
   "metadata": {},
   "outputs": [],
   "source": [
    "vectorizer = CountVectorizer(tokenizer=lambda x: x.split(';'))"
   ]
  },
  {
   "cell_type": "code",
   "execution_count": 15,
   "id": "891ea3ff",
   "metadata": {},
   "outputs": [
    {
     "name": "stderr",
     "output_type": "stream",
     "text": [
      "C:\\Users\\ssanj\\anaconda3\\Lib\\site-packages\\sklearn\\feature_extraction\\text.py:525: UserWarning: The parameter 'token_pattern' will not be used since 'tokenizer' is not None'\n",
      "  warnings.warn(\n"
     ]
    }
   ],
   "source": [
    "skill_interest_matrix = vectorizer.fit_transform(df['skills_and_interests'])"
   ]
  },
  {
   "cell_type": "code",
   "execution_count": 16,
   "id": "c6aca0bd",
   "metadata": {},
   "outputs": [],
   "source": [
    "similarity_matrix = cosine_similarity(skill_interest_matrix)"
   ]
  },
  {
   "cell_type": "code",
   "execution_count": 17,
   "id": "3ed709c3",
   "metadata": {},
   "outputs": [
    {
     "data": {
      "text/plain": [
       "array([[1.        , 0.56694671, 0.77151675, ..., 0.43643578, 0.21821789,\n",
       "        0.26726124],\n",
       "       [0.56694671, 1.        , 0.81649658, ..., 0.28867513, 0.28867513,\n",
       "        0.35355339],\n",
       "       [0.77151675, 0.81649658, 1.        , ..., 0.23570226, 0.23570226,\n",
       "        0.28867513],\n",
       "       ...,\n",
       "       [0.43643578, 0.28867513, 0.23570226, ..., 1.        , 0.33333333,\n",
       "        0.40824829],\n",
       "       [0.21821789, 0.28867513, 0.23570226, ..., 0.33333333, 1.        ,\n",
       "        0.81649658],\n",
       "       [0.26726124, 0.35355339, 0.28867513, ..., 0.40824829, 0.81649658,\n",
       "        1.        ]])"
      ]
     },
     "execution_count": 17,
     "metadata": {},
     "output_type": "execute_result"
    }
   ],
   "source": [
    "similarity_matrix"
   ]
  },
  {
   "cell_type": "code",
   "execution_count": 33,
   "id": "597624bc",
   "metadata": {},
   "outputs": [],
   "source": [
    "def get_top_similar_users(user_id, n=10):\n",
    "    user_index = df.index[df['NAME '] == user_id][0]\n",
    "    user_similarities = similarity_matrix[user_index]\n",
    "    similar_users = [(df.iloc[i]['NAME '], score) for i, score in enumerate(user_similarities) if i != user_index]\n",
    "    similar_users.sort(key=lambda x: x[1], reverse=True)\n",
    "    return similar_users[:n]"
   ]
  },
  {
   "cell_type": "code",
   "execution_count": 34,
   "id": "396d4dc5",
   "metadata": {},
   "outputs": [
    {
     "name": "stdout",
     "output_type": "stream",
     "text": [
      "Top similar users for Hari:\n",
      "User: Umesh Kumar, Similarity Score: 1.00\n",
      "User: Suraj Verma, Similarity Score: 1.00\n",
      "User: Krishna, Similarity Score: 1.00\n",
      "User: Gopal, Similarity Score: 1.00\n",
      "User: Dinesh Kumar, Similarity Score: 1.00\n",
      "User: Kamal, Similarity Score: 1.00\n",
      "User: Jitendra Ashok Ughade, Similarity Score: 1.00\n",
      "User: Gopal, Similarity Score: 1.00\n",
      "User: Vineet Kumar, Similarity Score: 0.82\n",
      "User: Ramkishore Ray, Similarity Score: 0.82\n"
     ]
    }
   ],
   "source": [
    "user_id = 'Hari' \n",
    "top_similar_users = get_top_similar_users(user_id)\n",
    "print(f\"Top similar users for {user_id}:\")\n",
    "for user, similarity_score in top_similar_users:\n",
    "    print(f\"User: {user}, Similarity Score: {similarity_score:.2f}\")"
   ]
  },
  {
   "cell_type": "code",
   "execution_count": null,
   "id": "c12148e6",
   "metadata": {},
   "outputs": [],
   "source": []
  }
 ],
 "metadata": {
  "kernelspec": {
   "display_name": "Python 3 (ipykernel)",
   "language": "python",
   "name": "python3"
  },
  "language_info": {
   "codemirror_mode": {
    "name": "ipython",
    "version": 3
   },
   "file_extension": ".py",
   "mimetype": "text/x-python",
   "name": "python",
   "nbconvert_exporter": "python",
   "pygments_lexer": "ipython3",
   "version": "3.11.5"
  }
 },
 "nbformat": 4,
 "nbformat_minor": 5
}
